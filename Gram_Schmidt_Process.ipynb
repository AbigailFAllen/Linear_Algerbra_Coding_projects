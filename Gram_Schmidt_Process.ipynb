{
  "nbformat": 4,
  "nbformat_minor": 0,
  "metadata": {
    "colab": {
      "name": "Gram-Schmidt Process",
      "provenance": [],
      "authorship_tag": "ABX9TyOtCz3rDUGWx0Afkqc7j4cJ",
      "include_colab_link": true
    },
    "kernelspec": {
      "name": "python3",
      "display_name": "Python 3"
    },
    "language_info": {
      "name": "python"
    }
  },
  "cells": [
    {
      "cell_type": "markdown",
      "metadata": {
        "id": "view-in-github",
        "colab_type": "text"
      },
      "source": [
        "<a href=\"https://colab.research.google.com/github/AbigailFAllen/Linear_Algerbra_Coding_projects/blob/main/Gram_Schmidt_Process.ipynb\" target=\"_parent\"><img src=\"https://colab.research.google.com/assets/colab-badge.svg\" alt=\"Open In Colab\"/></a>"
      ]
    },
    {
      "cell_type": "code",
      "execution_count": 2,
      "metadata": {
        "id": "x5LAXJtXPgTV"
      },
      "outputs": [],
      "source": [
        "import numpy as np\n",
        "from numpy import c_\n"
      ]
    },
    {
      "cell_type": "code",
      "source": [
        "# write vectors:\n",
        "r1 = np.array([3,6,0])\n",
        "r1\n",
        "# dot product of r1 with itself:\n",
        "r1.dot(r1)"
      ],
      "metadata": {
        "colab": {
          "base_uri": "https://localhost:8080/"
        },
        "id": "ZVg-RoWTQOXK",
        "outputId": "92685116-6ab0-471f-a1ff-f1e77842ee97"
      },
      "execution_count": 9,
      "outputs": [
        {
          "output_type": "execute_result",
          "data": {
            "text/plain": [
              "45"
            ]
          },
          "metadata": {},
          "execution_count": 9
        }
      ]
    },
    {
      "cell_type": "code",
      "source": [
        "np.sqrt(45)"
      ],
      "metadata": {
        "colab": {
          "base_uri": "https://localhost:8080/"
        },
        "id": "GuT9gwdQQfyK",
        "outputId": "d143558d-c6d3-4c6d-e77e-d25baba96b6d"
      },
      "execution_count": 11,
      "outputs": [
        {
          "output_type": "execute_result",
          "data": {
            "text/plain": [
              "6.708203932499369"
            ]
          },
          "metadata": {},
          "execution_count": 11
        }
      ]
    },
    {
      "cell_type": "code",
      "source": [
        "print(\"this is the square root of 45:\", np.sqrt (45))"
      ],
      "metadata": {
        "colab": {
          "base_uri": "https://localhost:8080/"
        },
        "id": "779Z43YZSV_4",
        "outputId": "8935a032-516c-41a8-b9f5-bfb9ad5d01d0"
      },
      "execution_count": 12,
      "outputs": [
        {
          "output_type": "stream",
          "name": "stdout",
          "text": [
            "this is the square root of 45: 6.708203932499369\n"
          ]
        }
      ]
    },
    {
      "cell_type": "code",
      "source": [
        "# Gram-Schmidt process using the first vector [3,6,0]:\n",
        "r1 = np.array([3,6,0])\n",
        "print(\"Our first messy vector is\", r1)\n",
        "\n",
        "# Temporary Vecor T1:\n",
        "T1 = r1\n",
        "print(\"T1 vector is\", T1)\n",
        "# Find the Magnitude of T1:\n",
        "n1 = np.sqrt(T1.dot(T1))\n",
        "print(\"the size of T1 is |T1| = \", n1)\n",
        "# renormalize, and create u1:\n",
        "u1 = (1/n1) * T1\n",
        "print(\"u1 = \", u1)"
      ],
      "metadata": {
        "colab": {
          "base_uri": "https://localhost:8080/"
        },
        "id": "795YpLwVS1GX",
        "outputId": "dd0a8f66-2e7c-4f14-c53b-6eb4dbd8d881"
      },
      "execution_count": 20,
      "outputs": [
        {
          "output_type": "stream",
          "name": "stdout",
          "text": [
            "Our first messy vector is [3 6 0]\n",
            "T1 vector is [3 6 0]\n",
            "the size of T1 is |T1| =  6.708203932499369\n",
            "u1 =  [0.4472136  0.89442719 0.        ]\n"
          ]
        }
      ]
    },
    {
      "cell_type": "code",
      "source": [
        "# Gram-Schmidt process using the second vector [6,2,0]:\n",
        "r2 = np.array([6,2,0])\n",
        "print(\"Our second messy vector is\", r2)\n",
        "\n",
        "# Temporary Vecor T2:\n",
        "T2 = r2 - (r2.dot(u1))*u1\n",
        "print(\"T2 vector is\", T2)\n",
        "# Find the Magnitude of T2:\n",
        "n2 = np.sqrt(T2.dot(T2))\n",
        "print(\"the size of T2 is |T2| = \", n2)\n",
        "# renormalize, and create u2:\n",
        "u2 = (1/n2) * T2\n",
        "print(\"u2 = \", u2)"
      ],
      "metadata": {
        "colab": {
          "base_uri": "https://localhost:8080/"
        },
        "id": "v9L8PJxfTH5O",
        "outputId": "3512865b-0e4d-4117-a751-ebb966c68a06"
      },
      "execution_count": 22,
      "outputs": [
        {
          "output_type": "stream",
          "name": "stdout",
          "text": [
            "Our second messy vector is [6 2 0]\n",
            "T2 vector is [ 4. -2.  0.]\n",
            "the size of T2 is |T2| =  4.47213595499958\n",
            "u2 =  [ 0.89442719 -0.4472136   0.        ]\n"
          ]
        }
      ]
    },
    {
      "cell_type": "code",
      "source": [
        "# Gram-Schmidt process using the third vector [-4,2,0]:\n",
        "r3 = np.array([-4,2,0])\n",
        "print(\"Our third messy vector is\", r3)\n",
        "\n",
        "# Temporary Vecor T3:\n",
        "T3 = r3 - (r3.dot(u2))*u2- (r3.dot(u1))*u1\n",
        "print(\"T3 vector is\", T3)\n",
        "# Find the Magnitude of T3:\n",
        "n3 = np.sqrt(T3.dot(T3))\n",
        "print(\"the size of T3 is |T3| = \", n3)\n",
        "# renormalize, and create u3:\n",
        "u3 = (1/n3) * T3\n",
        "print(\"u3 = \", u3)"
      ],
      "metadata": {
        "colab": {
          "base_uri": "https://localhost:8080/"
        },
        "id": "n6t29Ug1VR83",
        "outputId": "1e0f76b0-c6bf-4b7f-fd4a-336e2dce1b96"
      },
      "execution_count": 30,
      "outputs": [
        {
          "output_type": "stream",
          "name": "stdout",
          "text": [
            "Our third messy vector is [-4  2  0]\n",
            "T3 vector is [-4.4408921e-16 -8.8817842e-16  0.0000000e+00]\n",
            "the size of T3 is |T3| =  9.930136612989092e-16\n",
            "u3 =  [-0.4472136  -0.89442719  0.        ]\n"
          ]
        }
      ]
    },
    {
      "cell_type": "code",
      "source": [
        "# Gram-Schmidt process using the fourth vector [3,-4,3]:\n",
        "r4 = np.array([3,-4,3])\n",
        "print(\"Our fourth messy vector is\", r4)\n",
        "\n",
        "# Temporary Vecor T4:\n",
        "T4 = r4 - (r4.dot(u2))*u2- (r4.dot(u1))*u1\n",
        "print(\"T4 vector is\", T4)\n",
        "# Find the Magnitude of T4:\n",
        "n4 = np.sqrt(T4.dot(T4))\n",
        "print(\"the size of T4 is |T4| = \", n4)\n",
        "# renormalize, and create u4:\n",
        "u4 = (1/n4) * T4\n",
        "print(\"u4 = \", u4)"
      ],
      "metadata": {
        "colab": {
          "base_uri": "https://localhost:8080/"
        },
        "id": "OvpaoLKtWKfb",
        "outputId": "3c6616ea-3eef-462f-890c-1dd8da68ca1a"
      },
      "execution_count": 29,
      "outputs": [
        {
          "output_type": "stream",
          "name": "stdout",
          "text": [
            "Our fourth messy vector is [ 3 -4  3]\n",
            "T4 vector is [6.66133815e-16 1.33226763e-15 3.00000000e+00]\n",
            "the size of T4 is |T4| =  3.0\n",
            "u4 =  [2.22044605e-16 4.44089210e-16 1.00000000e+00]\n"
          ]
        }
      ]
    },
    {
      "cell_type": "code",
      "source": [
        ""
      ],
      "metadata": {
        "id": "yqhXirOlYOqH"
      },
      "execution_count": null,
      "outputs": []
    }
  ]
}